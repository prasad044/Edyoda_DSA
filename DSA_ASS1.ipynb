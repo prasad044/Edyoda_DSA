{
 "cells": [
  {
   "cell_type": "markdown",
   "id": "729b828b",
   "metadata": {},
   "source": [
    "## Assignment-1: Linear Data Structures"
   ]
  },
  {
   "cell_type": "markdown",
   "id": "4d7bf249",
   "metadata": {},
   "source": [
    "### Q1. Write a program to find all pairs of an integer array whose sum is equal to a given number?"
   ]
  },
  {
   "cell_type": "code",
   "execution_count": 36,
   "id": "aedaec0d",
   "metadata": {},
   "outputs": [
    {
     "name": "stdout",
     "output_type": "stream",
     "text": [
      "Enter arr: [1,2,3,4,5,6,7]\n",
      "Enter sum: 6\n",
      "Pairs with sum 6 are: [(1, 5), (2, 4)]\n"
     ]
    }
   ],
   "source": [
    "def find_pairs_with_sum(arr, target_sum):\n",
    "    pairs = []\n",
    "\n",
    "    for i in range(len(arr)):\n",
    "        for j in range(i + 1, len(arr)):\n",
    "            if arr[i] + arr[j] == target_sum:\n",
    "                pairs.append((arr[i], arr[j]))\n",
    "\n",
    "    return pairs\n",
    "\n",
    "arr = eval(input(\"Enter arr: \"))\n",
    "target_sum = eval(input(\"Enter sum: \"))\n",
    "result = find_pairs_with_sum(arr, target_sum)\n",
    "print(\"Pairs with sum\", target_sum, \"are:\", result)"
   ]
  },
  {
   "cell_type": "markdown",
   "id": "f1e72480",
   "metadata": {},
   "source": [
    "### Q2. Write a program to reverse an array in place? In place means you cannot create a new array. You have to update the original array."
   ]
  },
  {
   "cell_type": "code",
   "execution_count": 37,
   "id": "eb195940",
   "metadata": {},
   "outputs": [
    {
     "name": "stdout",
     "output_type": "stream",
     "text": [
      "Enter arr: [1,2,5,6,7,3]\n",
      "Reversed array: [3, 7, 6, 5, 2, 1]\n"
     ]
    }
   ],
   "source": [
    "def reverse_array_in_place(arr):\n",
    "    arr[:] = arr[::-1]\n",
    "\n",
    "arr = eval(input(\"Enter arr: \"))\n",
    "reverse_array_in_place(arr)\n",
    "print(\"Reversed array:\", arr)"
   ]
  },
  {
   "cell_type": "markdown",
   "id": "dacf3d45",
   "metadata": {},
   "source": [
    "### Q3. Write a program to check if two strings are a rotation of each other?"
   ]
  },
  {
   "cell_type": "code",
   "execution_count": 41,
   "id": "bff0213e",
   "metadata": {},
   "outputs": [
    {
     "name": "stdout",
     "output_type": "stream",
     "text": [
      "Enter string1: abcdef\n",
      "Enter string2: defabc\n",
      "'abcdef' and 'defabc' are rotations of each other.\n"
     ]
    }
   ],
   "source": [
    "def are_rotations(str1, str2):\n",
    "   \n",
    "    if len(str1) != len(str2) or len(str1) == 0:\n",
    "        return False\n",
    "\n",
    "    concatenated_str = str1 + str1\n",
    "\n",
    "    if str2 in concatenated_str:\n",
    "        return True\n",
    "\n",
    "    return False\n",
    "\n",
    "\n",
    "string1 = input(\"Enter string1: \")\n",
    "string2 = input(\"Enter string2: \")\n",
    "if are_rotations(string1, string2):\n",
    "    print(f\"'{string1}' and '{string2}' are rotations of each other.\")\n",
    "else:\n",
    "    print(f\"'{string1}' and '{string2}' are not rotations of each other.\")\n"
   ]
  },
  {
   "cell_type": "markdown",
   "id": "adc5556c",
   "metadata": {},
   "source": [
    "### Q4. Write a program to print the first non-repeated character from a string?"
   ]
  },
  {
   "cell_type": "code",
   "execution_count": 40,
   "id": "ed369f23",
   "metadata": {},
   "outputs": [
    {
     "name": "stdout",
     "output_type": "stream",
     "text": [
      "Enter character: hello\n",
      "The first non-repeated character is: h\n"
     ]
    }
   ],
   "source": [
    "def first_non_repeated_char(input_str):\n",
    "    char_count = {}  \n",
    "\n",
    "    \n",
    "    for char in input_str:\n",
    "        if char in char_count:\n",
    "            char_count[char] += 1\n",
    "        else:\n",
    "            char_count[char] = 1\n",
    "\n",
    "    \n",
    "    for char in input_str:\n",
    "        if char_count[char] == 1:\n",
    "            return char\n",
    "\n",
    "    \n",
    "    return None\n",
    "\n",
    "input_string = input(\"Enter character: \")\n",
    "result = first_non_repeated_char(input_string)\n",
    "if result:\n",
    "    print(\"The first non-repeated character is:\", result)\n",
    "else:\n",
    "    print(\"No non-repeated characters found in the string.\")\n"
   ]
  },
  {
   "cell_type": "markdown",
   "id": "3cb1c579",
   "metadata": {},
   "source": [
    "### Q5. Read about the Tower of Hanoi algorithm. Write a program to implement it."
   ]
  },
  {
   "cell_type": "code",
   "execution_count": 17,
   "id": "2ea5c189",
   "metadata": {},
   "outputs": [
    {
     "name": "stdout",
     "output_type": "stream",
     "text": [
      "Enter number of disks: 3\n",
      "Move disk 1 from A to C\n",
      "Move disk 2 from A to B\n",
      "Move disk 1 from C to B\n",
      "Move disk 3 from A to C\n",
      "Move disk 1 from B to A\n",
      "Move disk 2 from B to C\n",
      "Move disk 1 from A to C\n"
     ]
    }
   ],
   "source": [
    "def tower_of_hanoi(n, source, auxiliary, target):\n",
    "    if n == 1:\n",
    "        print(f\"Move disk 1 from {source} to {target}\")\n",
    "        return\n",
    "\n",
    "    tower_of_hanoi(n - 1, source, target, auxiliary)\n",
    "\n",
    "    print(f\"Move disk {n} from {source} to {target}\")\n",
    "\n",
    "    tower_of_hanoi(n - 1, auxiliary, source, target)\n",
    "\n",
    "\n",
    "n = int(input('Enter number of disks: '))\n",
    "tower_of_hanoi(n, 'A', 'B', 'C')"
   ]
  },
  {
   "cell_type": "markdown",
   "id": "af9484d4",
   "metadata": {},
   "source": [
    "### Q6. Read about infix, prefix, and postfix expressions. Write a program to convert postfix to prefix expression."
   ]
  },
  {
   "cell_type": "code",
   "execution_count": 44,
   "id": "b209ecb4",
   "metadata": {},
   "outputs": [
    {
     "name": "stdout",
     "output_type": "stream",
     "text": [
      "Enter postfix: 54-\n",
      "Prefix Expression: -54\n"
     ]
    }
   ],
   "source": [
    "def postfix_to_prefix(postfix_expression):\n",
    "    stack = []\n",
    "    operators = set(['+', '-', '*', '/', '^'])\n",
    "\n",
    "    for symbol in postfix_expression:\n",
    "        if symbol not in operators:\n",
    "            stack.append(symbol)\n",
    "        else:\n",
    "            operand2 = stack.pop()\n",
    "            operand1 = stack.pop()\n",
    "            prefix_expression = symbol + operand1 + operand2\n",
    "            stack.append(prefix_expression)\n",
    "\n",
    "    return stack[0]\n",
    "\n",
    "postfix_expression = input(\"Enter postfix: \")\n",
    "prefix_expression = postfix_to_prefix(postfix_expression)\n",
    "print(\"Prefix Expression:\", prefix_expression)\n"
   ]
  },
  {
   "cell_type": "markdown",
   "id": "5bc29ff8",
   "metadata": {},
   "source": [
    "### Q7. Write a program to convert prefix expression to infix expression."
   ]
  },
  {
   "cell_type": "code",
   "execution_count": 46,
   "id": "c94c3800",
   "metadata": {},
   "outputs": [
    {
     "name": "stdout",
     "output_type": "stream",
     "text": [
      "Enter prefix: +*AB-CD\n",
      "Infix Expression: ((A*B)+(C-D))\n"
     ]
    }
   ],
   "source": [
    "def is_operator(char):\n",
    "    return char in \"+-*/^\"\n",
    "\n",
    "def prefix_to_infix(prefix_expression):\n",
    "    stack = []\n",
    "\n",
    "    for symbol in reversed(prefix_expression):\n",
    "        if not is_operator(symbol):\n",
    "            stack.append(symbol)\n",
    "        else:\n",
    "            operand1 = stack.pop()\n",
    "            operand2 = stack.pop()\n",
    "            infix_expression = f\"({operand1}{symbol}{operand2})\"\n",
    "            stack.append(infix_expression)\n",
    "\n",
    "    return stack[0]\n",
    "\n",
    "prefix_expression = input(\"Enter prefix: \")\n",
    "infix_expression = prefix_to_infix(prefix_expression)\n",
    "print(\"Infix Expression:\", infix_expression)\n"
   ]
  },
  {
   "cell_type": "markdown",
   "id": "e65979a0",
   "metadata": {},
   "source": [
    "### Q8. Write a program to check if all the brackets are closed in a given code snippet."
   ]
  },
  {
   "cell_type": "code",
   "execution_count": 28,
   "id": "5f53fb95",
   "metadata": {},
   "outputs": [
    {
     "name": "stdout",
     "output_type": "stream",
     "text": [
      "Not all brackets are closed.\n"
     ]
    }
   ],
   "source": [
    "def are_brackets_closed(code):\n",
    "    stack = []\n",
    "\n",
    "  \n",
    "    bracket_pairs = {')': '(', '}': '{', ']': '['}\n",
    "\n",
    "    for char in code:\n",
    "        if char in \"({[\":\n",
    "            stack.append(char)\n",
    "        elif char in \")}]\":\n",
    "            if not stack or stack[-1] != bracket_pairs[char]:\n",
    "                return False  \n",
    "            stack.pop()\n",
    "\n",
    "\n",
    "    return len(stack) == 0\n",
    "\n",
    "code_snippet = \"(a + b) * [c - {d / e}\"\n",
    "if are_brackets_closed(code_snippet):\n",
    "    print(\"All brackets are closed.\")\n",
    "else:\n",
    "    print(\"Not all brackets are closed.\")\n"
   ]
  },
  {
   "cell_type": "markdown",
   "id": "bb6abc2a",
   "metadata": {},
   "source": [
    "### Q9. Write a program to reverse a stack."
   ]
  },
  {
   "cell_type": "code",
   "execution_count": 34,
   "id": "e36757fd",
   "metadata": {},
   "outputs": [
    {
     "name": "stdout",
     "output_type": "stream",
     "text": [
      "Please enter the elements to push: 3 4 5 1 2\n",
      "The stack:\n",
      "2\n",
      "1\n",
      "5\n",
      "4\n",
      "3\n",
      "After reversing:\n",
      "3\n",
      "4\n",
      "5\n",
      "1\n",
      "2\n"
     ]
    }
   ],
   "source": [
    "class Stack:\n",
    "    def __init__(self):\n",
    "        self.items = []\n",
    " \n",
    "    def is_empty(self):\n",
    "        return self.items == []\n",
    " \n",
    "    def push(self, data):\n",
    "        self.items.append(data)\n",
    " \n",
    "    def pop(self):\n",
    "        return self.items.pop()\n",
    " \n",
    "    def display(self):\n",
    "        for data in reversed(self.items):\n",
    "            print(data)\n",
    " \n",
    "def insert_at_bottom(s, data):\n",
    "    if s.is_empty():\n",
    "        s.push(data)\n",
    "    else:\n",
    "        popped = s.pop()\n",
    "        insert_at_bottom(s, data)\n",
    "        s.push(popped)\n",
    " \n",
    " \n",
    "def reverse_stack(s):\n",
    "    if not s.is_empty():\n",
    "        popped = s.pop()\n",
    "        reverse_stack(s)\n",
    "        insert_at_bottom(s, popped)\n",
    " \n",
    " \n",
    "s = Stack()\n",
    "data_list = input('Please enter the elements to push: ').split()\n",
    "for data in data_list:\n",
    "    s.push(int(data))\n",
    " \n",
    "print('The stack:')\n",
    "s.display()\n",
    "reverse_stack(s)\n",
    "print('After reversing:')\n",
    "s.display()"
   ]
  },
  {
   "cell_type": "markdown",
   "id": "1f47887f",
   "metadata": {},
   "source": [
    "### Q10. Write a program to find the smallest number using a stack."
   ]
  },
  {
   "cell_type": "code",
   "execution_count": 35,
   "id": "61aae540",
   "metadata": {},
   "outputs": [
    {
     "name": "stdout",
     "output_type": "stream",
     "text": [
      "Minimum element in the stack: 1\n"
     ]
    }
   ],
   "source": [
    "class MinStack:\n",
    "    def __init__(self):\n",
    "        self.stack = []\n",
    "        self.min_stack = []\n",
    "\n",
    "    def push(self, value):\n",
    "        self.stack.append(value)\n",
    "\n",
    "      \n",
    "        if not self.min_stack or value <= self.min_stack[-1]:\n",
    "            self.min_stack.append(value)\n",
    "\n",
    "    def pop(self):\n",
    "        if not self.is_empty():\n",
    "           \n",
    "            if self.stack[-1] == self.min_stack[-1]:\n",
    "                self.min_stack.pop()\n",
    "            return self.stack.pop()\n",
    "        else:\n",
    "            raise IndexError(\"Pop from an empty stack\")\n",
    "\n",
    "    def top(self):\n",
    "        if not self.is_empty():\n",
    "            return self.stack[-1]\n",
    "        else:\n",
    "            raise IndexError(\"Top from an empty stack\")\n",
    "\n",
    "    def get_min(self):\n",
    "        if not self.is_empty():\n",
    "            return self.min_stack[-1]\n",
    "        else:\n",
    "            raise IndexError(\"Minimum from an empty stack\")\n",
    "\n",
    "    def is_empty(self):\n",
    "        return len(self.stack) == 0\n",
    "\n",
    "\n",
    "stack = MinStack()\n",
    "stack.push(5)\n",
    "stack.push(2)\n",
    "stack.push(7)\n",
    "stack.push(1)\n",
    "\n",
    "print(\"Minimum element in the stack:\", stack.get_min())\n"
   ]
  },
  {
   "cell_type": "code",
   "execution_count": null,
   "id": "75557088",
   "metadata": {},
   "outputs": [],
   "source": []
  }
 ],
 "metadata": {
  "kernelspec": {
   "display_name": "Python 3 (ipykernel)",
   "language": "python",
   "name": "python3"
  },
  "language_info": {
   "codemirror_mode": {
    "name": "ipython",
    "version": 3
   },
   "file_extension": ".py",
   "mimetype": "text/x-python",
   "name": "python",
   "nbconvert_exporter": "python",
   "pygments_lexer": "ipython3",
   "version": "3.7.16"
  }
 },
 "nbformat": 4,
 "nbformat_minor": 5
}
