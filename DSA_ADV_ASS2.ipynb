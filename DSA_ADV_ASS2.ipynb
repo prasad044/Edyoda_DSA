{
 "cells": [
  {
   "cell_type": "markdown",
   "id": "c0b19a20",
   "metadata": {},
   "source": [
    "## Assignment-2: Searching & Sorting"
   ]
  },
  {
   "cell_type": "markdown",
   "id": "ab6647b4",
   "metadata": {},
   "source": [
    "### 1) Implement Binary Search"
   ]
  },
  {
   "cell_type": "code",
   "execution_count": 5,
   "id": "a46f05d0",
   "metadata": {},
   "outputs": [
    {
     "name": "stdout",
     "output_type": "stream",
     "text": [
      "Enter array of elements: [1,2,3,4,5,6]\n",
      "Enter target: 4\n",
      "Element 4 found at index 3\n"
     ]
    }
   ],
   "source": [
    "def binary_search(arr, target):\n",
    "    left, right = 0, len(arr) - 1\n",
    "\n",
    "    while left <= right:\n",
    "        mid = left + (right - left) // 2 \n",
    "\n",
    "        if arr[mid] == target:\n",
    "            return mid  \n",
    "        elif arr[mid] < target:\n",
    "            left = mid + 1\n",
    "        else:\n",
    "            right = mid - 1\n",
    "\n",
    "    return -1 \n",
    "\n",
    "arr = eval(input(\"Enter array of elements: \"))\n",
    "target = int(input(\"Enter target: \"))\n",
    "result = binary_search(arr, target)\n",
    "if result != -1:\n",
    "    print(f\"Element {target} found at index {result}\")\n",
    "else:\n",
    "    print(f\"Element {target} not found in the array\")\n"
   ]
  },
  {
   "cell_type": "markdown",
   "id": "25be62af",
   "metadata": {},
   "source": [
    "## 2) Implement Merge Sort"
   ]
  },
  {
   "cell_type": "code",
   "execution_count": 7,
   "id": "92f85685",
   "metadata": {},
   "outputs": [
    {
     "name": "stdout",
     "output_type": "stream",
     "text": [
      "Enter array of elements: [12, 11, 13, 5, 6, 7]\n",
      "Sorted array: [5, 6, 7, 11, 12, 13]\n"
     ]
    }
   ],
   "source": [
    "def merge_sort(arr):\n",
    "    if len(arr) > 1:\n",
    "        mid = len(arr) // 2  \n",
    "        left_half = arr[:mid]  \n",
    "        right_half = arr[mid:]\n",
    "\n",
    "        merge_sort(left_half)\n",
    "        merge_sort(right_half)\n",
    "\n",
    "        i = j = k = 0\n",
    "\n",
    "        while i < len(left_half) and j < len(right_half):\n",
    "            if left_half[i] < right_half[j]:\n",
    "                arr[k] = left_half[i]\n",
    "                i += 1\n",
    "            else:\n",
    "                arr[k] = right_half[j]\n",
    "                j += 1\n",
    "            k += 1\n",
    "\n",
    "        while i < len(left_half):\n",
    "            arr[k] = left_half[i]\n",
    "            i += 1\n",
    "            k += 1\n",
    "\n",
    "        while j < len(right_half):\n",
    "            arr[k] = right_half[j]\n",
    "            j += 1\n",
    "            k += 1\n",
    "\n",
    "arr = eval(input(\"Enter array of elements: \"))\n",
    "merge_sort(arr)\n",
    "print(\"Sorted array:\", arr)\n"
   ]
  },
  {
   "cell_type": "markdown",
   "id": "b5ad3bf4",
   "metadata": {},
   "source": [
    "## 3) Implement Quick Sort"
   ]
  },
  {
   "cell_type": "code",
   "execution_count": 8,
   "id": "0a0bf156",
   "metadata": {},
   "outputs": [
    {
     "name": "stdout",
     "output_type": "stream",
     "text": [
      "Original array: [12, 4, 5, 6, 7, 3, 1, 15]\n",
      "Sorted array: [1, 3, 4, 5, 6, 7, 12, 15]\n"
     ]
    }
   ],
   "source": [
    "def quick_sort(arr):\n",
    "    if len(arr) <= 1:\n",
    "        return arr \n",
    "\n",
    "    pivot = arr[len(arr) // 2]  \n",
    "    left = [x for x in arr if x < pivot]  \n",
    "    middle = [x for x in arr if x == pivot]  \n",
    "    right = [x for x in arr if x > pivot]  \n",
    "\n",
    "   \n",
    "    return quick_sort(left) + middle + quick_sort(right)\n",
    "\n",
    "arr = [12, 4, 5, 6, 7, 3, 1, 15]\n",
    "print(\"Original array:\", arr)\n",
    "sorted_arr = quick_sort(arr)\n",
    "print(\"Sorted array:\", sorted_arr)\n"
   ]
  },
  {
   "cell_type": "markdown",
   "id": "24086d5a",
   "metadata": {},
   "source": [
    "## 4) Implement Insertion Sort"
   ]
  },
  {
   "cell_type": "code",
   "execution_count": 10,
   "id": "87a783e5",
   "metadata": {},
   "outputs": [
    {
     "name": "stdout",
     "output_type": "stream",
     "text": [
      "Original array: [12, 11, 13, 5, 6]\n",
      "Sorted array: [5, 6, 11, 12, 13]\n"
     ]
    }
   ],
   "source": [
    "def insertion_sort(arr):\n",
    "    for i in range(1, len(arr)):\n",
    "        key = arr[i]\n",
    "        j = i - 1 \n",
    "\n",
    "        while j >= 0 and key < arr[j]:\n",
    "            arr[j + 1] = arr[j]\n",
    "            j -= 1\n",
    "\n",
    "        arr[j + 1] = key\n",
    "\n",
    "arr = [12, 11, 13, 5, 6]\n",
    "print(\"Original array:\", arr)\n",
    "insertion_sort(arr)\n",
    "print(\"Sorted array:\", arr)\n"
   ]
  },
  {
   "cell_type": "markdown",
   "id": "2f9ba91b",
   "metadata": {},
   "source": [
    "## 5) Write a program to sort list of strings (similar to that of dictionary)"
   ]
  },
  {
   "cell_type": "code",
   "execution_count": 19,
   "id": "10b6673b",
   "metadata": {},
   "outputs": [
    {
     "name": "stdout",
     "output_type": "stream",
     "text": [
      "Enter list of strings: [\"mango\", \"apple\", \"banana\", \"grape\"]\n",
      "Sorted list is: \n",
      "['apple', 'banana', 'grape', 'mango']\n"
     ]
    }
   ],
   "source": [
    "string_list = eval(input(\"Enter list of strings: \"))\n",
    "ans_list = []\n",
    "sorted_list = sorted(string_list)\n",
    "\n",
    "print(\"Sorted list is: \")\n",
    "for word in sorted_list:\n",
    "    ans_list.append(word)\n",
    "print(ans_list)\n"
   ]
  },
  {
   "cell_type": "code",
   "execution_count": null,
   "id": "6b417634",
   "metadata": {},
   "outputs": [],
   "source": []
  }
 ],
 "metadata": {
  "kernelspec": {
   "display_name": "Python 3 (ipykernel)",
   "language": "python",
   "name": "python3"
  },
  "language_info": {
   "codemirror_mode": {
    "name": "ipython",
    "version": 3
   },
   "file_extension": ".py",
   "mimetype": "text/x-python",
   "name": "python",
   "nbconvert_exporter": "python",
   "pygments_lexer": "ipython3",
   "version": "3.7.16"
  }
 },
 "nbformat": 4,
 "nbformat_minor": 5
}
