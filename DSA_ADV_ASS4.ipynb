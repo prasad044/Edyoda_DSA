{
 "cells": [
  {
   "cell_type": "markdown",
   "id": "242e6d62",
   "metadata": {},
   "source": [
    "## Assignment-4: Graphs"
   ]
  },
  {
   "cell_type": "markdown",
   "id": "122b8eb0",
   "metadata": {},
   "source": [
    "### 1) Breadth First Traversal for a Graph"
   ]
  },
  {
   "cell_type": "code",
   "execution_count": 1,
   "id": "924e9f08",
   "metadata": {},
   "outputs": [
    {
     "name": "stdout",
     "output_type": "stream",
     "text": [
      "Following is the Breadth-First Search\n",
      "5 3 7 2 4 8 "
     ]
    }
   ],
   "source": [
    "graph = {\n",
    "  '5' : ['3','7'],\n",
    "  '3' : ['2', '4'],\n",
    "  '7' : ['8'],\n",
    "  '2' : [],\n",
    "  '4' : ['8'],\n",
    "  '8' : []\n",
    "}\n",
    "\n",
    "visited = [] \n",
    "queue = []    \n",
    "\n",
    "def bfs(visited, graph, node):\n",
    "  visited.append(node)\n",
    "  queue.append(node)\n",
    "\n",
    "  while queue:         \n",
    "    m = queue.pop(0) \n",
    "    print (m, end = \" \") \n",
    "\n",
    "    for neighbour in graph[m]:\n",
    "      if neighbour not in visited:\n",
    "        visited.append(neighbour)\n",
    "        queue.append(neighbour)\n",
    "\n",
    "print(\"Following is the Breadth-First Search\")\n",
    "bfs(visited, graph, '5')    "
   ]
  },
  {
   "cell_type": "markdown",
   "id": "b4aa12fb",
   "metadata": {},
   "source": [
    "### 2) Depth First Traversal for a Graph"
   ]
  },
  {
   "cell_type": "code",
   "execution_count": 4,
   "id": "bc2de253",
   "metadata": {},
   "outputs": [
    {
     "name": "stdout",
     "output_type": "stream",
     "text": [
      "Following is the Depth-First Search\n",
      "5 3 2 4 8 7 "
     ]
    }
   ],
   "source": [
    "# Using a Python dictionary to act as an adjacency list\n",
    "graph = {\n",
    "  '5' : ['3','7'],\n",
    "  '3' : ['2', '4'],\n",
    "  '7' : ['8'],\n",
    "  '2' : [],\n",
    "  '4' : ['8'],\n",
    "  '8' : []\n",
    "}\n",
    "\n",
    "visited = set() # Set to keep track of visited nodes of graph.\n",
    "\n",
    "def dfs(visited, graph, node):  #function for dfs \n",
    "    if node not in visited:\n",
    "        print (node, end = ' ')\n",
    "        visited.add(node)\n",
    "        for neighbour in graph[node]:\n",
    "            dfs(visited, graph, neighbour)\n",
    "\n",
    "# Driver Code\n",
    "print(\"Following is the Depth-First Search\")\n",
    "dfs(visited, graph, '5')"
   ]
  },
  {
   "cell_type": "markdown",
   "id": "eadb1854",
   "metadata": {},
   "source": [
    "### 3) Count the number of nodes at given level in a tree using BFS"
   ]
  },
  {
   "cell_type": "code",
   "execution_count": 5,
   "id": "8f2feadf",
   "metadata": {},
   "outputs": [
    {
     "name": "stdout",
     "output_type": "stream",
     "text": [
      "Number of nodes at level 2: 4\n"
     ]
    }
   ],
   "source": [
    "class TreeNode:\n",
    "    def __init__(self, data):\n",
    "        self.data = data\n",
    "        self.left = None\n",
    "        self.right = None\n",
    "\n",
    "def count_nodes_at_level(root, target_level):\n",
    "    if root is None:\n",
    "        return 0\n",
    "\n",
    "    queue = [(root, 0)] \n",
    "    count = 0\n",
    "\n",
    "    while queue:\n",
    "        node, level = queue.pop(0)\n",
    "\n",
    "        if level == target_level:\n",
    "            count += 1\n",
    "\n",
    "        if node.left:\n",
    "            queue.append((node.left, level + 1))\n",
    "        if node.right:\n",
    "            queue.append((node.right, level + 1))\n",
    "\n",
    "    return count\n",
    "\n",
    "if __name__ == \"__main__\":\n",
    "    root = TreeNode(1)\n",
    "    root.left = TreeNode(2)\n",
    "    root.right = TreeNode(3)\n",
    "    root.left.left = TreeNode(4)\n",
    "    root.left.right = TreeNode(5)\n",
    "    root.right.left = TreeNode(6)\n",
    "    root.right.right = TreeNode(7)\n",
    "\n",
    "    target_level = 2\n",
    "    node_count = count_nodes_at_level(root, target_level)\n",
    "    print(f\"Number of nodes at level {target_level}: {node_count}\")\n"
   ]
  },
  {
   "cell_type": "markdown",
   "id": "bc9e28ac",
   "metadata": {},
   "source": [
    "### 4) Count number of trees in a forest"
   ]
  },
  {
   "cell_type": "code",
   "execution_count": 7,
   "id": "b4da40ea",
   "metadata": {},
   "outputs": [
    {
     "name": "stdout",
     "output_type": "stream",
     "text": [
      "Number of trees in the forest: 3\n"
     ]
    }
   ],
   "source": [
    "from collections import defaultdict\n",
    "\n",
    "class Graph:\n",
    "    def __init__(self):\n",
    "        self.graph = defaultdict(list)\n",
    "\n",
    "    def add_edge(self, u, v):\n",
    "        self.graph[u].append(v)\n",
    "        self.graph[v].append(u)\n",
    "\n",
    "    def dfs(self, node, visited):\n",
    "        visited[node] = True\n",
    "        for neighbor in self.graph[node]:\n",
    "            if not visited[neighbor]:\n",
    "                self.dfs(neighbor, visited)\n",
    "\n",
    "def count_trees_in_forest(edges, n):\n",
    "    forest = Graph()\n",
    "    for u, v in edges:\n",
    "        forest.add_edge(u, v)\n",
    "\n",
    "    visited = [False] * (n + 1)  # +1 because node indexing starts from 1\n",
    "    tree_count = 0\n",
    "\n",
    "    for node in range(1, n + 1):\n",
    "        if not visited[node]:\n",
    "            forest.dfs(node, visited)\n",
    "            tree_count += 1\n",
    "\n",
    "    return tree_count\n",
    "\n",
    "# Example usage:\n",
    "if __name__ == \"__main__\":\n",
    "    # Define the forest as a list of edges (u, v)\n",
    "    forest_edges = [(1, 2), (2, 3), (4, 5), (5, 6), (7, 7)]\n",
    "    num_nodes = 7\n",
    "\n",
    "    num_trees = count_trees_in_forest(forest_edges, num_nodes)\n",
    "    print(f\"Number of trees in the forest: {num_trees}\")\n"
   ]
  },
  {
   "cell_type": "markdown",
   "id": "8361a3cd",
   "metadata": {},
   "source": [
    "### 5) Detect Cycle in a Directed Graph"
   ]
  },
  {
   "cell_type": "code",
   "execution_count": 8,
   "id": "0906e984",
   "metadata": {},
   "outputs": [
    {
     "name": "stdout",
     "output_type": "stream",
     "text": [
      "The graph contains a cycle.\n"
     ]
    }
   ],
   "source": [
    "from collections import defaultdict\n",
    "\n",
    "class Graph:\n",
    "    def __init__(self, vertices):\n",
    "        self.vertices = vertices\n",
    "        self.graph = defaultdict(list)\n",
    "\n",
    "    def add_edge(self, u, v):\n",
    "        self.graph[u].append(v)\n",
    "\n",
    "    def is_cyclic_util(self, v, visited, rec_stack):\n",
    "        visited[v] = True\n",
    "        rec_stack[v] = True\n",
    "\n",
    "        for neighbor in self.graph[v]:\n",
    "            if not visited[neighbor]:\n",
    "                if self.is_cyclic_util(neighbor, visited, rec_stack):\n",
    "                    return True\n",
    "            elif rec_stack[neighbor]:\n",
    "                return True\n",
    "\n",
    "        rec_stack[v] = False\n",
    "        return False\n",
    "\n",
    "    def is_cyclic(self):\n",
    "        visited = [False] * self.vertices\n",
    "        rec_stack = [False] * self.vertices\n",
    "\n",
    "        for node in range(self.vertices):\n",
    "            if not visited[node]:\n",
    "                if self.is_cyclic_util(node, visited, rec_stack):\n",
    "                    return True\n",
    "\n",
    "        return False\n",
    "\n",
    "if __name__ == \"__main__\":\n",
    "    g = Graph(4)\n",
    "    g.add_edge(0, 1)\n",
    "    g.add_edge(0, 2)\n",
    "    g.add_edge(1, 2)\n",
    "    g.add_edge(2, 0)\n",
    "    g.add_edge(2, 3)\n",
    "    g.add_edge(3, 3)\n",
    "\n",
    "    if g.is_cyclic():\n",
    "        print(\"The graph contains a cycle.\")\n",
    "    else:\n",
    "        print(\"The graph does not contain a cycle.\")\n"
   ]
  },
  {
   "cell_type": "markdown",
   "id": "bcf05b9e",
   "metadata": {},
   "source": [
    "### **Implement n-Queen’s Problem"
   ]
  },
  {
   "cell_type": "code",
   "execution_count": 11,
   "id": "f3ab4cdb",
   "metadata": {},
   "outputs": [
    {
     "name": "stdout",
     "output_type": "stream",
     "text": [
      "Solution 1:\n",
      ".Q..\n",
      "...Q\n",
      "Q...\n",
      "..Q.\n",
      "\n",
      "Solution 2:\n",
      "..Q.\n",
      "Q...\n",
      "...Q\n",
      ".Q..\n",
      "\n"
     ]
    }
   ],
   "source": [
    "def is_safe(board, row, col, n):\n",
    "    # Check if there is a queen in the same column\n",
    "    for i in range(row):\n",
    "        if board[i][col] == 1:\n",
    "            return False\n",
    "\n",
    "    # Check upper left diagonal\n",
    "    for i, j in zip(range(row, -1, -1), range(col, -1, -1)):\n",
    "        if board[i][j] == 1:\n",
    "            return False\n",
    "\n",
    "    # Check upper right diagonal\n",
    "    for i, j in zip(range(row, -1, -1), range(col, n)):\n",
    "        if board[i][j] == 1:\n",
    "            return False\n",
    "\n",
    "    return True\n",
    "\n",
    "def solve_n_queens_util(board, row, n, solutions):\n",
    "    if row == n:\n",
    "        solutions.append([\"\".join([\"Q\" if col == 1 else \".\" for col in row]) for row in board])\n",
    "        return\n",
    "\n",
    "    for col in range(n):\n",
    "        if is_safe(board, row, col, n):\n",
    "            board[row][col] = 1\n",
    "            solve_n_queens_util(board, row + 1, n, solutions)\n",
    "            board[row][col] = 0\n",
    "\n",
    "def solve_n_queens(n):\n",
    "    board = [[0] * n for _ in range(n)]\n",
    "    solutions = []\n",
    "\n",
    "    solve_n_queens_util(board, 0, n, solutions)\n",
    "    return solutions\n",
    "\n",
    "# Example usage:\n",
    "if __name__ == \"__main__\":\n",
    "    n = 4\n",
    "    solutions = solve_n_queens(n)\n",
    "    for idx, solution in enumerate(solutions, 1):\n",
    "        print(f\"Solution {idx}:\")\n",
    "        for row in solution:\n",
    "            print(row)\n",
    "        print()\n"
   ]
  },
  {
   "cell_type": "code",
   "execution_count": null,
   "id": "bdbdbfea",
   "metadata": {},
   "outputs": [],
   "source": []
  }
 ],
 "metadata": {
  "kernelspec": {
   "display_name": "Python 3 (ipykernel)",
   "language": "python",
   "name": "python3"
  },
  "language_info": {
   "codemirror_mode": {
    "name": "ipython",
    "version": 3
   },
   "file_extension": ".py",
   "mimetype": "text/x-python",
   "name": "python",
   "nbconvert_exporter": "python",
   "pygments_lexer": "ipython3",
   "version": "3.7.16"
  }
 },
 "nbformat": 4,
 "nbformat_minor": 5
}
