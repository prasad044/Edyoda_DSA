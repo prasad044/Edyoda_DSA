{
 "cells": [
  {
   "cell_type": "markdown",
   "id": "4e1b0acf",
   "metadata": {},
   "source": [
    "## Assignment-1: Linear Data Structures"
   ]
  },
  {
   "cell_type": "markdown",
   "id": "011f946a",
   "metadata": {},
   "source": [
    "### 1) Delete the elements in an linked list whose sum is equal to zero"
   ]
  },
  {
   "cell_type": "code",
   "execution_count": 1,
   "id": "c5d4a8a0",
   "metadata": {},
   "outputs": [
    {
     "name": "stdout",
     "output_type": "stream",
     "text": [
      "After deletion:  [20, 25]\n"
     ]
    }
   ],
   "source": [
    "class Node():\n",
    "  def __init__(self,data):\n",
    "     self.data = data\n",
    "     self.next = None\n",
    "\n",
    "class Linkedlist():\n",
    "   def __init__(self):\n",
    "     self.head = None\n",
    "    \n",
    "   def append(self,data):\n",
    "     new_node = Node(data)\n",
    "     h = self.head\n",
    "     if self.head is None:\n",
    "         self.head = new_node\n",
    "         return\n",
    "     else:\n",
    "         while h.next!=None:\n",
    "             h = h.next\n",
    "         h.next = new_node\n",
    "\n",
    "   def remove_zeros_from_linkedlist(self, head):\n",
    "     stack = []\n",
    "     curr = head\n",
    "     list = []\n",
    "     while (curr):\n",
    "         if curr.data >= 0:\n",
    "             stack.append(curr)\n",
    "         else:\n",
    "             temp = curr\n",
    "             sum = temp.data\n",
    "             flag = False\n",
    "             while (len(stack) != 0):\n",
    "                 temp2 = stack.pop()\n",
    "                 sum += temp2.data\n",
    "                 if sum == 0:\n",
    "                     flag = True\n",
    "                     list = []\n",
    "                     break\n",
    "                 elif sum > 0:\n",
    "                     list.append(temp2)\n",
    "             if not flag:\n",
    "                 if len(list) > 0:\n",
    "                     for i in range(len(list)):\n",
    "                         stack.append(list.pop())\n",
    "                 stack.append(temp)\n",
    "         curr = curr.next\n",
    "     return [i.data for i in stack]\n",
    "\n",
    "if __name__ == \"__main__\":\n",
    " l = Linkedlist()\n",
    "\n",
    " l.append(4)\n",
    " l.append(6)\n",
    " l.append(-10)\n",
    " l.append(8)\n",
    " l.append(9)\n",
    " l.append(10)\n",
    " l.append(-19)\n",
    " l.append(10)\n",
    " l.append(-18)\n",
    " l.append(20)\n",
    " l.append(25)\n",
    " print(\"After deletion: \",l.remove_zeros_from_linkedlist(l.head))"
   ]
  },
  {
   "cell_type": "markdown",
   "id": "551584fa",
   "metadata": {},
   "source": [
    "## 2) Reverse a linked list in groups of given size"
   ]
  },
  {
   "cell_type": "code",
   "execution_count": 2,
   "id": "7a22eff9",
   "metadata": {},
   "outputs": [
    {
     "name": "stdout",
     "output_type": "stream",
     "text": [
      "Given linked list\n",
      "1 2 3 4 5 6 7 8 9 \n",
      "Reversed Linked list\n",
      "3 2 1 6 5 4 9 8 7 "
     ]
    }
   ],
   "source": [
    "class Node:\n",
    "  \n",
    "    def __init__(self, data):\n",
    "        self.data = data\n",
    "        self.next = None\n",
    "  \n",
    "  \n",
    "class LinkedList:\n",
    "  \n",
    "    def __init__(self):\n",
    "        self.head = None\n",
    "  \n",
    "    def reverse(self, head, k):\n",
    "        \n",
    "        if head == None:\n",
    "          return None\n",
    "        current = head\n",
    "        next = None\n",
    "        prev = None\n",
    "        count = 0\n",
    "  \n",
    "        while(current is not None and count < k):\n",
    "            next = current.next\n",
    "            current.next = prev\n",
    "            prev = current\n",
    "            current = next\n",
    "            count += 1\n",
    "  \n",
    "        if next is not None:\n",
    "            head.next = self.reverse(next, k)\n",
    "  \n",
    "        return prev\n",
    "  \n",
    "    def push(self, new_data):\n",
    "        new_node = Node(new_data)\n",
    "        new_node.next = self.head\n",
    "        self.head = new_node\n",
    "  \n",
    "    def printList(self):\n",
    "        temp = self.head\n",
    "        while(temp):\n",
    "            print(temp.data,end=' ')\n",
    "            temp = temp.next\n",
    "  \n",
    "  \n",
    "llist = LinkedList()\n",
    "llist.push(9)\n",
    "llist.push(8)\n",
    "llist.push(7)\n",
    "llist.push(6)\n",
    "llist.push(5)\n",
    "llist.push(4)\n",
    "llist.push(3)\n",
    "llist.push(2)\n",
    "llist.push(1)\n",
    "  \n",
    "print(\"Given linked list\")\n",
    "llist.printList()\n",
    "llist.head = llist.reverse(llist.head, 3)\n",
    "  \n",
    "print (\"\\nReversed Linked list\")\n",
    "llist.printList()"
   ]
  },
  {
   "cell_type": "markdown",
   "id": "7cb89102",
   "metadata": {},
   "source": [
    "## 3) Merge a linked list into another linked list at alternate positions."
   ]
  },
  {
   "cell_type": "code",
   "execution_count": 3,
   "id": "0e5b738e",
   "metadata": {},
   "outputs": [
    {
     "name": "stdout",
     "output_type": "stream",
     "text": [
      "First Linked List:\n",
      "0\n",
      "1\n",
      "2\n",
      "3\n",
      "Second Linked List:\n",
      "4\n",
      "5\n",
      "6\n",
      "7\n",
      "8\n",
      "Modified first linked list:\n",
      "0\n",
      "4\n",
      "1\n",
      "5\n",
      "2\n",
      "6\n",
      "3\n",
      "7\n",
      "Modified second linked list:\n",
      "8\n"
     ]
    }
   ],
   "source": [
    "class Node(object):\n",
    "    def __init__(self, data:int):\n",
    "        self.data = data\n",
    "        self.next = None\n",
    "  \n",
    "  \n",
    "class LinkedList(object):\n",
    "    def __init__(self):\n",
    "        self.head = None\n",
    "          \n",
    "    def push(self, new_data:int):\n",
    "        new_node = Node(new_data)\n",
    "        new_node.next = self.head\n",
    "        self.head = new_node\n",
    "          \n",
    "    def printList(self):\n",
    "        temp = self.head\n",
    "        while temp != None:\n",
    "            print(temp.data)\n",
    "            temp = temp.next\n",
    "              \n",
    "    def merge(self, p, q):\n",
    "        p_curr = p.head\n",
    "        q_curr = q.head\n",
    "  \n",
    "        while p_curr != None and q_curr != None:\n",
    "  \n",
    "            p_next = p_curr.next\n",
    "            q_next = q_curr.next\n",
    "  \n",
    "            # make q_curr as next of p_curr\n",
    "            q_curr.next = p_next  # change next pointer of q_curr\n",
    "            p_curr.next = q_curr  # change next pointer of p_curr\n",
    "  \n",
    "            # update current pointers for next iteration\n",
    "            p_curr = p_next\n",
    "            q_curr = q_next\n",
    "            q.head = q_curr\n",
    "  \n",
    "  \n",
    "\n",
    "llist1 = LinkedList()\n",
    "llist2 = LinkedList()\n",
    "  \n",
    "# Creating LLs\n",
    "  \n",
    "# 1.\n",
    "llist1.push(3)\n",
    "llist1.push(2)\n",
    "llist1.push(1)\n",
    "llist1.push(0)\n",
    "  \n",
    "# 2.\n",
    "for i in range(8, 3, -1):\n",
    "    llist2.push(i)\n",
    "  \n",
    "print(\"First Linked List:\")\n",
    "llist1.printList()\n",
    "  \n",
    "print(\"Second Linked List:\")\n",
    "llist2.printList()\n",
    "  \n",
    "# Merging the LLs\n",
    "llist1.merge(p=llist1, q=llist2)\n",
    "  \n",
    "print(\"Modified first linked list:\")\n",
    "llist1.printList()\n",
    "  \n",
    "print(\"Modified second linked list:\")\n",
    "llist2.printList()"
   ]
  },
  {
   "cell_type": "markdown",
   "id": "a945942e",
   "metadata": {},
   "source": [
    "## 4) In an array, Count Pairs with given sum"
   ]
  },
  {
   "cell_type": "code",
   "execution_count": 4,
   "id": "cabbe67b",
   "metadata": {},
   "outputs": [
    {
     "name": "stdout",
     "output_type": "stream",
     "text": [
      "Enter array of numbers: [3,4,5,1,4,5]\n",
      "Enter sum do you want: 6\n",
      "Count of pairs is 2\n"
     ]
    }
   ],
   "source": [
    "def getPairsCount(arr, n, K):\n",
    " \n",
    "    count = 0 \n",
    " \n",
    "    for i in range(0, n):\n",
    "        for j in range(i + 1, n):\n",
    "            if arr[i] + arr[j] == K:\n",
    "                count += 1\n",
    " \n",
    "    return count\n",
    " \n",
    "\n",
    "arr = eval(input(\"Enter array of numbers: \"))\n",
    "n = len(arr)\n",
    "K = int(input(\"Enter sum do you want: \"))\n",
    "print(\"Count of pairs is\",\n",
    "      getPairsCount(arr, n, K))"
   ]
  },
  {
   "cell_type": "markdown",
   "id": "499bc7f2",
   "metadata": {},
   "source": [
    "## 5) Find duplicates in an array"
   ]
  },
  {
   "cell_type": "code",
   "execution_count": 5,
   "id": "415bd212",
   "metadata": {},
   "outputs": [
    {
     "name": "stdout",
     "output_type": "stream",
     "text": [
      "Enter array of elements: [2,4,5,6,1,2,4,8]\n",
      "Duplicate elements in given array: \n",
      "2\n",
      "4\n"
     ]
    }
   ],
   "source": [
    "   \n",
    "def duplicate(arr):\n",
    "    \n",
    "    for i in range(0, len(arr)):    \n",
    "        for j in range(i+1, len(arr)):    \n",
    "            if(arr[i] == arr[j]):    \n",
    "                print(arr[j]);   \n",
    "                \n",
    "arr = eval(input(\"Enter array of elements: \"))      \n",
    "print(\"Duplicate elements in given array: \")\n",
    "duplicate(arr)"
   ]
  },
  {
   "cell_type": "markdown",
   "id": "dc2472f9",
   "metadata": {},
   "source": [
    "## 6) Find the Kth largest and Kth smallest number in an array"
   ]
  },
  {
   "cell_type": "code",
   "execution_count": 6,
   "id": "54d43494",
   "metadata": {},
   "outputs": [
    {
     "name": "stdout",
     "output_type": "stream",
     "text": [
      "Enter array of elements: [2,5,6,7,1,4,9]\n",
      "Enter K value: 2\n",
      "The 2th largest number is 7\n",
      "The 2th smallest number is 2\n"
     ]
    }
   ],
   "source": [
    "def find_kth_largest_and_smallest(arr, k):\n",
    "    if k < 1 or k > len(arr):\n",
    "        return \"Invalid input: k is out of range\"\n",
    "\n",
    "    sorted_arr = sorted(arr)\n",
    "\n",
    "    kth_smallest = sorted_arr[k - 1]\n",
    "\n",
    "    kth_largest = sorted_arr[-k]\n",
    "\n",
    "    return kth_largest, kth_smallest\n",
    "\n",
    "arr = eval(input(\"Enter array of elements: \"))\n",
    "k = int(input(\"Enter K value: \"))\n",
    "kth_largest, kth_smallest = find_kth_largest_and_smallest(arr, k)\n",
    "print(f\"The {k}th largest number is {kth_largest}\")\n",
    "print(f\"The {k}th smallest number is {kth_smallest}\")"
   ]
  },
  {
   "cell_type": "markdown",
   "id": "2d740979",
   "metadata": {},
   "source": [
    "## 7) Move all the negative elements to one side of the array"
   ]
  },
  {
   "cell_type": "code",
   "execution_count": 7,
   "id": "10a1432f",
   "metadata": {},
   "outputs": [
    {
     "name": "stdout",
     "output_type": "stream",
     "text": [
      "Enter array of elements: [1,2,-5,7,8,45,-6]\n",
      "Array with negative elements on one side: [-6, -5, 2, 7, 8, 45, 1]\n"
     ]
    }
   ],
   "source": [
    "def move_negatives_to_one_side(arr):\n",
    "    left = 0\n",
    "    right = len(arr) - 1\n",
    "\n",
    "    while left <= right:\n",
    "        if arr[left] < 0 and arr[right] < 0:\n",
    "            left += 1\n",
    "        elif arr[left] >= 0 and arr[right] < 0:\n",
    "            arr[left], arr[right] = arr[right], arr[left]\n",
    "            left += 1\n",
    "            right -= 1\n",
    "        elif arr[left] >= 0 and arr[right] >= 0:\n",
    "            right -= 1\n",
    "        else:\n",
    "            left += 1\n",
    "            right -= 1\n",
    "\n",
    "arr = eval(input(\"Enter array of elements: \"))\n",
    "move_negatives_to_one_side(arr)\n",
    "print(\"Array with negative elements on one side:\", arr)\n"
   ]
  },
  {
   "cell_type": "markdown",
   "id": "a2b64398",
   "metadata": {},
   "source": [
    "## 8) Reverse a string using a stack data structure"
   ]
  },
  {
   "cell_type": "code",
   "execution_count": 8,
   "id": "c44a52c7",
   "metadata": {},
   "outputs": [
    {
     "name": "stdout",
     "output_type": "stream",
     "text": [
      "Enter string: hello world!\n",
      "Original string: hello world!\n",
      "Reversed string: !dlrow olleh\n"
     ]
    }
   ],
   "source": [
    "class Stack:\n",
    "    def __init__(self):\n",
    "        self.items = []\n",
    "\n",
    "    def push(self, item):\n",
    "        self.items.append(item)\n",
    "\n",
    "    def pop(self):\n",
    "        if not self.is_empty():\n",
    "            return self.items.pop()\n",
    "        else:\n",
    "            return None\n",
    "\n",
    "    def is_empty(self):\n",
    "        return len(self.items) == 0\n",
    "\n",
    "def reverse_string(input_str):\n",
    "    stack = Stack()\n",
    "\n",
    "    for char in input_str:\n",
    "        stack.push(char)\n",
    "\n",
    "    reversed_str = \"\"\n",
    "    while not stack.is_empty():\n",
    "        reversed_str += stack.pop()\n",
    "\n",
    "    return reversed_str\n",
    "\n",
    "input_str = input(\"Enter string: \")\n",
    "reversed_str = reverse_string(input_str)\n",
    "print(\"Original string:\", input_str)\n",
    "print(\"Reversed string:\", reversed_str)"
   ]
  },
  {
   "cell_type": "markdown",
   "id": "bc5c3ef2",
   "metadata": {},
   "source": [
    "## 9) Evaluate a postfix expression using stack"
   ]
  },
  {
   "cell_type": "code",
   "execution_count": 9,
   "id": "8aaef9e1",
   "metadata": {},
   "outputs": [
    {
     "name": "stdout",
     "output_type": "stream",
     "text": [
      "Enter postfix expression: 23*5+\n",
      "Postfix expression: 23*5+\n",
      "Result: 11\n"
     ]
    }
   ],
   "source": [
    "class Stack:\n",
    "    def __init__(self):\n",
    "        self.items = []\n",
    "\n",
    "    def push(self, item):\n",
    "        self.items.append(item)\n",
    "\n",
    "    def pop(self):\n",
    "        if not self.is_empty():\n",
    "            return self.items.pop()\n",
    "        else:\n",
    "            return None\n",
    "\n",
    "    def is_empty(self):\n",
    "        return len(self.items) == 0\n",
    "\n",
    "def evaluate_postfix(expression):\n",
    "    stack = Stack()\n",
    "    operators = set(['+', '-', '*', '/'])\n",
    "\n",
    "    for char in expression:\n",
    "        if char not in operators:\n",
    "            stack.push(int(char))\n",
    "        else:\n",
    "            operand2 = stack.pop()\n",
    "            operand1 = stack.pop()\n",
    "            if operand1 is None or operand2 is None:\n",
    "                return \"Invalid expression\"\n",
    "            if char == '+':\n",
    "                result = operand1 + operand2\n",
    "            elif char == '-':\n",
    "                result = operand1 - operand2\n",
    "            elif char == '*':\n",
    "                result = operand1 * operand2\n",
    "            elif char == '/':\n",
    "                if operand2 == 0:\n",
    "                    return \"Division by zero error\"\n",
    "                result = operand1 / operand2\n",
    "            stack.push(result)\n",
    "\n",
    "    if len(stack.items) == 1:\n",
    "        return stack.pop()\n",
    "    else:\n",
    "        return \"Invalid expression\"\n",
    "\n",
    "postfix_expression = input(\"Enter postfix expression: \")\n",
    "result = evaluate_postfix(postfix_expression)\n",
    "print(\"Postfix expression:\", postfix_expression)\n",
    "print(\"Result:\", result)\n"
   ]
  },
  {
   "cell_type": "markdown",
   "id": "7b541575",
   "metadata": {},
   "source": [
    "## 10) Implement a queue using the stack data structure"
   ]
  },
  {
   "cell_type": "code",
   "execution_count": 10,
   "id": "d24598ad",
   "metadata": {},
   "outputs": [
    {
     "name": "stdout",
     "output_type": "stream",
     "text": [
      "1\n",
      "2\n",
      "3\n"
     ]
    }
   ],
   "source": [
    "\n",
    "class Queue:\n",
    "    def __init__(self):\n",
    "        self.s1 = []\n",
    "        self.s2 = []\n",
    " \n",
    "    def enQueue(self, x):\n",
    "         \n",
    "        while len(self.s1) != 0:\n",
    "            self.s2.append(self.s1[-1])\n",
    "            self.s1.pop()\n",
    " \n",
    "        self.s1.append(x)\n",
    " \n",
    "        while len(self.s2) != 0:\n",
    "            self.s1.append(self.s2[-1])\n",
    "            self.s2.pop()\n",
    " \n",
    "    def deQueue(self):\n",
    "         \n",
    "        if len(self.s1) == 0:\n",
    "            return -1;\n",
    "     \n",
    "        x = self.s1[-1]\n",
    "        self.s1.pop()\n",
    "        return x\n",
    " \n",
    "if __name__ == '__main__':\n",
    "    q = Queue()\n",
    "    q.enQueue(1)\n",
    "    q.enQueue(2)\n",
    "    q.enQueue(3)\n",
    " \n",
    "    print(q.deQueue())\n",
    "    print(q.deQueue())\n",
    "    print(q.deQueue())"
   ]
  },
  {
   "cell_type": "code",
   "execution_count": null,
   "id": "238b01cd",
   "metadata": {},
   "outputs": [],
   "source": []
  }
 ],
 "metadata": {
  "kernelspec": {
   "display_name": "Python 3 (ipykernel)",
   "language": "python",
   "name": "python3"
  },
  "language_info": {
   "codemirror_mode": {
    "name": "ipython",
    "version": 3
   },
   "file_extension": ".py",
   "mimetype": "text/x-python",
   "name": "python",
   "nbconvert_exporter": "python",
   "pygments_lexer": "ipython3",
   "version": "3.7.16"
  }
 },
 "nbformat": 4,
 "nbformat_minor": 5
}
