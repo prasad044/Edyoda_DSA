{
 "cells": [
  {
   "cell_type": "markdown",
   "id": "ac8625df",
   "metadata": {},
   "source": [
    "## Assignment-3: Trees"
   ]
  },
  {
   "cell_type": "markdown",
   "id": "080b1db8",
   "metadata": {},
   "source": [
    "### 1) Implement Binary tree"
   ]
  },
  {
   "cell_type": "code",
   "execution_count": 1,
   "id": "05a99af0",
   "metadata": {},
   "outputs": [
    {
     "name": "stdout",
     "output_type": "stream",
     "text": [
      "3\n",
      "6\n",
      "12\n",
      "14\n"
     ]
    }
   ],
   "source": [
    "class Node:\n",
    "   def __init__(self, data):\n",
    "      self.left = None\n",
    "      self.right = None\n",
    "      self.data = data\n",
    "\n",
    "   def insert(self, data):\n",
    "      if self.data:\n",
    "         if data < self.data:\n",
    "            if self.left is None:\n",
    "               self.left = Node(data)\n",
    "            else:\n",
    "               self.left.insert(data)\n",
    "         elif data > self.data:\n",
    "               if self.right is None:\n",
    "                  self.right = Node(data)\n",
    "               else:\n",
    "                  self.right.insert(data)\n",
    "      else:\n",
    "         self.data = data\n",
    "\n",
    "   def PrintTree(self):\n",
    "      if self.left:\n",
    "         self.left.PrintTree()\n",
    "      print( self.data),\n",
    "      if self.right:\n",
    "         self.right.PrintTree()\n",
    "\n",
    "root = Node(12)\n",
    "root.insert(6)\n",
    "root.insert(14)\n",
    "root.insert(3)\n",
    "root.PrintTree()\n"
   ]
  },
  {
   "cell_type": "markdown",
   "id": "c2f93359",
   "metadata": {},
   "source": [
    "### 2) Find height of a given tree"
   ]
  },
  {
   "cell_type": "code",
   "execution_count": 2,
   "id": "fe1a6545",
   "metadata": {},
   "outputs": [
    {
     "name": "stdout",
     "output_type": "stream",
     "text": [
      "Height of the binary tree: 2\n"
     ]
    }
   ],
   "source": [
    "class TreeNode:\n",
    "    def __init__(self, data):\n",
    "        self.data = data\n",
    "        self.left = None\n",
    "        self.right = None\n",
    "\n",
    "def find_height(root):\n",
    "    if root is None:\n",
    "        return -1 \n",
    "\n",
    "    left_height = find_height(root.left)\n",
    "    right_height = find_height(root.right)\n",
    "\n",
    "    return max(left_height, right_height) + 1\n",
    "\n",
    "if __name__ == \"__main__\":\n",
    "    root = TreeNode(1)\n",
    "    root.left = TreeNode(2)\n",
    "    root.right = TreeNode(3)\n",
    "    root.left.left = TreeNode(4)\n",
    "    root.left.right = TreeNode(5)\n",
    "\n",
    "    height = find_height(root)\n",
    "    print(\"Height of the binary tree:\", height)"
   ]
  },
  {
   "cell_type": "markdown",
   "id": "5de44abb",
   "metadata": {},
   "source": [
    "### 3) Perform Pre-order, Post-order, In-order traversal"
   ]
  },
  {
   "cell_type": "code",
   "execution_count": 3,
   "id": "55567b3c",
   "metadata": {},
   "outputs": [
    {
     "name": "stdout",
     "output_type": "stream",
     "text": [
      "Pre order Traversal: 1 2 4 3 \n",
      "In order Traversal: 4 2 1 3 \n",
      "Post order Traversal: 4 2 3 1 "
     ]
    }
   ],
   "source": [
    "class Node:\n",
    "    def __init__(self, key):\n",
    "        self.left = None\n",
    "        self.right = None\n",
    "        self.val = key\n",
    "\n",
    "    # Traverse preorder\n",
    "    def traversePreOrder(self):\n",
    "        print(self.val, end=' ')\n",
    "        if self.left:\n",
    "            self.left.traversePreOrder()\n",
    "        if self.right:\n",
    "            self.right.traversePreOrder()\n",
    "\n",
    "    # Traverse inorder\n",
    "    def traverseInOrder(self):\n",
    "        if self.left:\n",
    "            self.left.traverseInOrder()\n",
    "        print(self.val, end=' ')\n",
    "        if self.right:\n",
    "            self.right.traverseInOrder()\n",
    "\n",
    "    # Traverse postorder\n",
    "    def traversePostOrder(self):\n",
    "        if self.left:\n",
    "            self.left.traversePostOrder()\n",
    "        if self.right:\n",
    "            self.right.traversePostOrder()\n",
    "        print(self.val, end=' ')\n",
    "\n",
    "\n",
    "root = Node(1)\n",
    "\n",
    "root.left = Node(2)\n",
    "root.right = Node(3)\n",
    "\n",
    "root.left.left = Node(4)\n",
    "\n",
    "print(\"Pre order Traversal: \", end=\"\")\n",
    "root.traversePreOrder()\n",
    "print(\"\\nIn order Traversal: \", end=\"\")\n",
    "root.traverseInOrder()\n",
    "print(\"\\nPost order Traversal: \", end=\"\")\n",
    "root.traversePostOrder()"
   ]
  },
  {
   "cell_type": "markdown",
   "id": "e8566412",
   "metadata": {},
   "source": [
    "### 4) Function to print all the leaves in a given binary tree"
   ]
  },
  {
   "cell_type": "code",
   "execution_count": 4,
   "id": "8a57cb44",
   "metadata": {},
   "outputs": [
    {
     "name": "stdout",
     "output_type": "stream",
     "text": [
      "Leaf nodes of the binary tree:\n",
      "4 5 6 7 "
     ]
    }
   ],
   "source": [
    "class TreeNode:\n",
    "    def __init__(self, data):\n",
    "        self.data = data\n",
    "        self.left = None\n",
    "        self.right = None\n",
    "\n",
    "def print_leaves(root):\n",
    "    if root is None:\n",
    "        return\n",
    "\n",
    "    if root.left is None and root.right is None:\n",
    "        print(root.data, end=\" \")  \n",
    "\n",
    "    print_leaves(root.left)  \n",
    "    print_leaves(root.right)  \n",
    "\n",
    "if __name__ == \"__main__\":\n",
    "    root = TreeNode(1)\n",
    "    root.left = TreeNode(2)\n",
    "    root.right = TreeNode(3)\n",
    "    root.left.left = TreeNode(4)\n",
    "    root.left.right = TreeNode(5)\n",
    "    root.right.left = TreeNode(6)\n",
    "    root.right.right = TreeNode(7)\n",
    "\n",
    "    print(\"Leaf nodes of the binary tree:\")\n",
    "    print_leaves(root)\n"
   ]
  },
  {
   "cell_type": "markdown",
   "id": "2a722797",
   "metadata": {},
   "source": [
    "### 5) Implement BFS (Breath First Search) and DFS (Depth First Search)"
   ]
  },
  {
   "cell_type": "markdown",
   "id": "411c6636",
   "metadata": {},
   "source": [
    "## BFS"
   ]
  },
  {
   "cell_type": "code",
   "execution_count": 6,
   "id": "4fca0b6b",
   "metadata": {},
   "outputs": [
    {
     "name": "stdout",
     "output_type": "stream",
     "text": [
      "Following is the Breadth-First Search\n",
      "5 3 7 2 4 8 "
     ]
    }
   ],
   "source": [
    "graph = {\n",
    "  '5' : ['3','7'],\n",
    "  '3' : ['2', '4'],\n",
    "  '7' : ['8'],\n",
    "  '2' : [],\n",
    "  '4' : ['8'],\n",
    "  '8' : []\n",
    "}\n",
    "\n",
    "visited = [] # List for visited nodes.\n",
    "queue = []     #Initialize a queue\n",
    "\n",
    "def bfs(visited, graph, node): #function for BFS\n",
    "  visited.append(node)\n",
    "  queue.append(node)\n",
    "\n",
    "  while queue:          # Creating loop to visit each node\n",
    "    m = queue.pop(0) \n",
    "    print (m, end = \" \") \n",
    "\n",
    "    for neighbour in graph[m]:\n",
    "      if neighbour not in visited:\n",
    "        visited.append(neighbour)\n",
    "        queue.append(neighbour)\n",
    "\n",
    "# Driver Code\n",
    "print(\"Following is the Breadth-First Search\")\n",
    "bfs(visited, graph, '5')    # function calling"
   ]
  },
  {
   "cell_type": "markdown",
   "id": "85f26864",
   "metadata": {},
   "source": [
    "## DFS"
   ]
  },
  {
   "cell_type": "code",
   "execution_count": 7,
   "id": "c73f3df7",
   "metadata": {},
   "outputs": [
    {
     "name": "stdout",
     "output_type": "stream",
     "text": [
      "Following is the Depth-First Search\n",
      "5 3 2 4 8 7 "
     ]
    }
   ],
   "source": [
    "graph = {\n",
    "  '5' : ['3','7'],\n",
    "  '3' : ['2', '4'],\n",
    "  '7' : ['8'],\n",
    "  '2' : [],\n",
    "  '4' : ['8'],\n",
    "  '8' : []\n",
    "}\n",
    "\n",
    "visited = set() # Set to keep track of visited nodes of graph.\n",
    "\n",
    "def dfs(visited, graph, node):  #function for dfs \n",
    "    if node not in visited:\n",
    "        print (node, end=' ')\n",
    "        visited.add(node)\n",
    "        for neighbour in graph[node]:\n",
    "            dfs(visited, graph, neighbour)\n",
    "\n",
    "# Driver Code\n",
    "print(\"Following is the Depth-First Search\")\n",
    "dfs(visited, graph, '5')"
   ]
  },
  {
   "cell_type": "markdown",
   "id": "3b78e6db",
   "metadata": {},
   "source": [
    "### 6) Find sum of all left leaves in a given Binary Tree"
   ]
  },
  {
   "cell_type": "code",
   "execution_count": 8,
   "id": "47dea3c7",
   "metadata": {},
   "outputs": [
    {
     "name": "stdout",
     "output_type": "stream",
     "text": [
      "Sum of left leaves in the binary tree: 10\n"
     ]
    }
   ],
   "source": [
    "class TreeNode:\n",
    "    def __init__(self, data):\n",
    "        self.data = data\n",
    "        self.left = None\n",
    "        self.right = None\n",
    "\n",
    "def sum_of_left_leaves(root):\n",
    "    if root is None:\n",
    "        return 0\n",
    "\n",
    "    if root.left and root.left.left is None and root.left.right is None:\n",
    "        left_leaf_value = root.left.data\n",
    "    else:\n",
    "        left_leaf_value = 0\n",
    "\n",
    "    left_sum = sum_of_left_leaves(root.left)\n",
    "    right_sum = sum_of_left_leaves(root.right)\n",
    "\n",
    "    return left_sum + right_sum + left_leaf_value\n",
    "\n",
    "if __name__ == \"__main__\":\n",
    "    root = TreeNode(1)\n",
    "    root.left = TreeNode(2)\n",
    "    root.right = TreeNode(3)\n",
    "    root.left.left = TreeNode(4)\n",
    "    root.left.right = TreeNode(5)\n",
    "    root.right.left = TreeNode(6)\n",
    "    root.right.right = TreeNode(7)\n",
    "\n",
    "    left_leaves_sum = sum_of_left_leaves(root)\n",
    "    print(\"Sum of left leaves in the binary tree:\", left_leaves_sum)\n"
   ]
  },
  {
   "cell_type": "markdown",
   "id": "64e19ab0",
   "metadata": {},
   "source": [
    "### 7) Find sum of all nodes of the given perfect binary tree"
   ]
  },
  {
   "cell_type": "code",
   "execution_count": 9,
   "id": "f17d1728",
   "metadata": {},
   "outputs": [
    {
     "name": "stdout",
     "output_type": "stream",
     "text": [
      "Sum of all nodes in the perfect binary tree: 28\n"
     ]
    }
   ],
   "source": [
    "class TreeNode:\n",
    "    def __init__(self, data):\n",
    "        self.data = data\n",
    "        self.left = None\n",
    "        self.right = None\n",
    "\n",
    "def sum_of_all_nodes(root):\n",
    "    if root is None:\n",
    "        return 0\n",
    "\n",
    "    left_sum = sum_of_all_nodes(root.left)\n",
    "    right_sum = sum_of_all_nodes(root.right)\n",
    "\n",
    "    return root.data + left_sum + right_sum\n",
    "\n",
    "if __name__ == \"__main__\":\n",
    "    root = TreeNode(1)\n",
    "    root.left = TreeNode(2)\n",
    "    root.right = TreeNode(3)\n",
    "    root.left.left = TreeNode(4)\n",
    "    root.left.right = TreeNode(5)\n",
    "    root.right.left = TreeNode(6)\n",
    "    root.right.right = TreeNode(7)\n",
    "\n",
    "    total_sum = sum_of_all_nodes(root)\n",
    "    print(\"Sum of all nodes in the perfect binary tree:\", total_sum)\n"
   ]
  },
  {
   "cell_type": "markdown",
   "id": "048612aa",
   "metadata": {},
   "source": [
    "### 8) Count subtress that sum up to a given value x in a binary tree"
   ]
  },
  {
   "cell_type": "code",
   "execution_count": 10,
   "id": "1add7296",
   "metadata": {},
   "outputs": [
    {
     "name": "stdout",
     "output_type": "stream",
     "text": [
      "Number of subtrees with sum equal to 5 is 1\n"
     ]
    }
   ],
   "source": [
    "class TreeNode:\n",
    "    def __init__(self, data):\n",
    "        self.data = data\n",
    "        self.left = None\n",
    "        self.right = None\n",
    "\n",
    "def count_subtrees_with_sum(root, x):\n",
    "    def count_subtrees_with_sum_helper(node, x, count):\n",
    "        if node is None:\n",
    "            return 0\n",
    "\n",
    "        left_sum = count_subtrees_with_sum_helper(node.left, x, count)\n",
    "        right_sum = count_subtrees_with_sum_helper(node.right, x, count)\n",
    "\n",
    "        subtree_sum = left_sum + right_sum + node.data\n",
    "\n",
    "        if subtree_sum == x:\n",
    "            count[0] += 1\n",
    "\n",
    "        return subtree_sum\n",
    "\n",
    "    count = [0] \n",
    "    count_subtrees_with_sum_helper(root, x, count)\n",
    "    return count[0]\n",
    "\n",
    "if __name__ == \"__main__\":\n",
    "    # Create a binary tree\n",
    "    root = TreeNode(5)\n",
    "    root.left = TreeNode(2)\n",
    "    root.right = TreeNode(-5)\n",
    "    root.left.left = TreeNode(1)\n",
    "    root.left.right = TreeNode(4)\n",
    "    root.right.left = TreeNode(2)\n",
    "    root.right.right = TreeNode(8)\n",
    "\n",
    "    target_sum = 5\n",
    "    count = count_subtrees_with_sum(root, target_sum)\n",
    "    print(\"Number of subtrees with sum equal to\", target_sum, \"is\", count)\n"
   ]
  },
  {
   "cell_type": "markdown",
   "id": "fa82bb09",
   "metadata": {},
   "source": [
    "### 9) Find maximum level sum in Binary Tree"
   ]
  },
  {
   "cell_type": "code",
   "execution_count": 11,
   "id": "3dc50b34",
   "metadata": {},
   "outputs": [
    {
     "name": "stdout",
     "output_type": "stream",
     "text": [
      "Maximum level sum in the binary tree: 15\n"
     ]
    }
   ],
   "source": [
    "class TreeNode:\n",
    "    def __init__(self, data):\n",
    "        self.data = data\n",
    "        self.left = None\n",
    "        self.right = None\n",
    "\n",
    "def max_level_sum(root):\n",
    "    if root is None:\n",
    "        return 0\n",
    "\n",
    "    max_sum = float('-inf') \n",
    "    queue = [root]\n",
    "\n",
    "    while queue:\n",
    "        level_sum = 0\n",
    "        level_size = len(queue)\n",
    "\n",
    "        for _ in range(level_size):\n",
    "            current = queue.pop(0)\n",
    "            level_sum += current.data\n",
    "\n",
    "            if current.left:\n",
    "                queue.append(current.left)\n",
    "            if current.right:\n",
    "                queue.append(current.right)\n",
    "\n",
    "        max_sum = max(max_sum, level_sum)\n",
    "\n",
    "    return max_sum\n",
    "\n",
    "if __name__ == \"__main__\":\n",
    "    # Create a binary tree\n",
    "    root = TreeNode(1)\n",
    "    root.left = TreeNode(2)\n",
    "    root.right = TreeNode(3)\n",
    "    root.left.left = TreeNode(4)\n",
    "    root.left.right = TreeNode(5)\n",
    "    root.right.right = TreeNode(6)\n",
    "\n",
    "    max_sum = max_level_sum(root)\n",
    "    print(\"Maximum level sum in the binary tree:\", max_sum)\n"
   ]
  },
  {
   "cell_type": "markdown",
   "id": "5f99d50d",
   "metadata": {},
   "source": [
    "### 10) Print the nodes at odd levels of a tree"
   ]
  },
  {
   "cell_type": "code",
   "execution_count": 12,
   "id": "9cba9792",
   "metadata": {},
   "outputs": [
    {
     "name": "stdout",
     "output_type": "stream",
     "text": [
      "Nodes at odd levels in the binary tree:\n",
      "1 4 5 6 7 "
     ]
    }
   ],
   "source": [
    "class TreeNode:\n",
    "    def __init__(self, data):\n",
    "        self.data = data\n",
    "        self.left = None\n",
    "        self.right = None\n",
    "\n",
    "def print_nodes_at_odd_levels(root):\n",
    "    def print_odd_levels(node, level):\n",
    "        if node is None:\n",
    "            return\n",
    "\n",
    "        if level % 2 != 0:\n",
    "            print(node.data, end=\" \")\n",
    "\n",
    "        print_odd_levels(node.left, level + 1)\n",
    "        print_odd_levels(node.right, level + 1)\n",
    "\n",
    "    print_odd_levels(root, 1)\n",
    "\n",
    "if __name__ == \"__main__\":\n",
    "    # Create a binary tree\n",
    "    root = TreeNode(1)\n",
    "    root.left = TreeNode(2)\n",
    "    root.right = TreeNode(3)\n",
    "    root.left.left = TreeNode(4)\n",
    "    root.left.right = TreeNode(5)\n",
    "    root.right.left = TreeNode(6)\n",
    "    root.right.right = TreeNode(7)\n",
    "\n",
    "    print(\"Nodes at odd levels in the binary tree:\")\n",
    "    print_nodes_at_odd_levels(root)\n"
   ]
  },
  {
   "cell_type": "code",
   "execution_count": null,
   "id": "3bcb9971",
   "metadata": {},
   "outputs": [],
   "source": []
  }
 ],
 "metadata": {
  "kernelspec": {
   "display_name": "Python 3 (ipykernel)",
   "language": "python",
   "name": "python3"
  },
  "language_info": {
   "codemirror_mode": {
    "name": "ipython",
    "version": 3
   },
   "file_extension": ".py",
   "mimetype": "text/x-python",
   "name": "python",
   "nbconvert_exporter": "python",
   "pygments_lexer": "ipython3",
   "version": "3.7.16"
  }
 },
 "nbformat": 4,
 "nbformat_minor": 5
}
